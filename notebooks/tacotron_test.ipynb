{
 "cells": [
  {
   "cell_type": "code",
   "execution_count": 1,
   "metadata": {},
   "outputs": [
    {
     "name": "stderr",
     "output_type": "stream",
     "text": [
      "/mnt/c/Users/Lukas/Desktop/prog/tts-app/env/lib/python3.8/site-packages/tqdm/auto.py:22: TqdmWarning: IProgress not found. Please update jupyter and ipywidgets. See https://ipywidgets.readthedocs.io/en/stable/user_install.html\n",
      "  from .autonotebook import tqdm as notebook_tqdm\n",
      "Downloading: \"https://download.pytorch.org/torchaudio/models/tacotron2_english_characters_1500_epochs_wavernn_ljspeech.pth\" to /home/lukasg/.cache/torch/hub/checkpoints/tacotron2_english_characters_1500_epochs_wavernn_ljspeech.pth\n",
      "100%|██████████| 107M/107M [00:10<00:00, 11.2MB/s] \n"
     ]
    }
   ],
   "source": [
    "from tts_tacotron2 import generate_wav\n",
    "\n",
    "text = \"Sample text\"\n",
    "\n",
    "generate_wav(text)\n",
    "\n",
    "# Takes around 1 minute in total, including downloading models\n",
    "# from pytorch website\n",
    "\n",
    "# How do we actually store a model on a server (in a container)\n",
    "# as a file, and then load it, and do inference with it?\n",
    "# Maybe use a .pkl file?"
   ]
  }
 ],
 "metadata": {
  "kernelspec": {
   "display_name": "Python 3.9.6 ('env': venv)",
   "language": "python",
   "name": "python3"
  },
  "language_info": {
   "codemirror_mode": {
    "name": "ipython",
    "version": 3
   },
   "file_extension": ".py",
   "mimetype": "text/x-python",
   "name": "python",
   "nbconvert_exporter": "python",
   "pygments_lexer": "ipython3",
   "version": "3.9.6"
  },
  "orig_nbformat": 4,
  "vscode": {
   "interpreter": {
    "hash": "57400179a2bcaadd9df533b4273c49f0294522976f0dcbebc5dbfeaabf37b612"
   }
  }
 },
 "nbformat": 4,
 "nbformat_minor": 2
}
